{
 "cells": [
  {
   "cell_type": "code",
   "execution_count": 4,
   "metadata": {},
   "outputs": [],
   "source": [
    "import scipy.stats as sts\n",
    "from scipy.stats import norm\n",
    "import math\n",
    "import numpy as np"
   ]
  },
  {
   "cell_type": "markdown",
   "metadata": {},
   "source": [
    "### Problem Statement 1: \n",
    "\n",
    "Blood glucose levels for obese patients have a mean of 100 with a standard deviation of 15. A researcher thinks that a diet high in raw cornstarch will have a positive effect on blood glucose levels. A sample of 36 patients who have tried the raw cornstarch diet have a mean glucose level of 108. Test the hypothesis that the raw cornstarch had an effect or not.\n",
    "\n",
    "**solution** :-\n",
    "\n",
    "\n",
    "$\\mu $ = 100   <br>\n",
    "\n",
    "$\\sigma $ = 15 <br>\n",
    "\n",
    "n=36  <br>\n",
    "\n",
    "$bar X $ = 108 <br>\n",
    "\n",
    "$H_{0} $ = Raw cornstrach has effect on obesity ($\\mu $ =100 )   <br>\n",
    "\n",
    "$H_{1} $ = Raw cornstrach has no any  effect on obesity ( $\\mu $ !=100)   <br>\n",
    "\n",
    "***************Will follow two tail test********************************* <br> \n",
    "\n",
    "$ Z_{test}  = \\frac {(\\bar X - \\mu)} {\\frac {\\sigma} {\\sqrt n}} $  <br>\n",
    "\n",
    "$ Z_{test}  = \\frac {(108 - 100)} {\\frac {15} {\\sqrt 36}} $ = 3.2 <br>\n",
    "\n",
    "Now we will take significance level asd 95% hence ; <br>\n",
    "\n",
    "for two tail test $\\frac {\\alpha} {2} $ = 0.025\n",
    "\n",
    "$Z_{0.025} $ = -1.96 <br>\n",
    "\n",
    "3.2 >  -1.96  <br>\n",
    "\n",
    "$ Z_{test} $ does not lies int the given region hence rejects null hypothesis\n",
    "\n",
    "\n"
   ]
  },
  {
   "cell_type": "code",
   "execution_count": 5,
   "metadata": {},
   "outputs": [
    {
     "name": "stdout",
     "output_type": "stream",
     "text": [
      "SE: 2.5\n",
      "Z_score: 3.2\n"
     ]
    }
   ],
   "source": [
    "p_mean = 100\n",
    "p_std = 15\n",
    "n = 36\n",
    "sample_mean = 108\n",
    "alpha = 0.05\n",
    "\n",
    "SE = p_std/n**0.5\n",
    "print(f\"SE: {SE}\")\n",
    "Z = (sample_mean-p_mean)/SE\n",
    "print(f\"Z_score: {Z}\")\n",
    "# by looking at z- table and p-value associated with 3.20 is 0.9993 \n",
    "# The probability of having value less than 108 is 0.9993 and more than or equals to 108 is (1-0.9993)=0.0007.\n",
    "\n",
    "# Step-4 : Sice the probability of having mean glucose level more than or equals to 108  is 0.0007 which is  less than 0.05 \n",
    "#so we will reject the Null hypothesis i.e. there is raw cornstarch effect."
   ]
  },
  {
   "cell_type": "code",
   "execution_count": null,
   "metadata": {},
   "outputs": [],
   "source": []
  },
  {
   "cell_type": "markdown",
   "metadata": {},
   "source": [
    "### Problem Statement 2:\n",
    "\n",
    "In one state, 52% of the voters are Republicans, and 48% are Democrats. In a second state, 47% of the voters are Republicans, and 53% are Democrats. Suppose a simple random sample of 100 voters are surveyed from each state. What is the probability that the survey will show a greater percentage of Republican voters in the second state than in the first state ?\n",
    "\n",
    "**Note** :- Whenever we will have percentage population value we will try to apply population proportion concept\n",
    "\n",
    "\n",
    "$n_{1}$ = 100   <br>\n",
    "$n_{2}$ = 100   <br>\n",
    "$\\hat p_{1}$ = 0.52  <br>\n",
    "$(1-\\hat p_{1})$= 0.48   <br>\n",
    "$\\hat p_{2}$ 0.47    <br>\n",
    "$(1-\\hat p_{2})$ = 0.53   <br>\n",
    "\n",
    "\n",
    "$H_{0} $ = value >0.52 (Greater percentage of republican voters in second states than first state) <br>\n",
    "\n",
    "$H_{1} $ = value <=0.52 (Lesser percentage of republican voters in second states than first state) <br>\n",
    "\n",
    "\n",
    "Applying Z-test for population propotion formula  <br>\n",
    "\n",
    "$ Z_{test} $ = $\\frac {(\\mu_{1} - \\mu_{2})- (\\hat p_{1} -\\hat p_{2})} {\\frac {(\\hat p_{1})(1-\\hat p_{1})}{n_{1}} + \\frac {(\\hat p_{2})(1-\\hat p_{2})}{n_{2}} }$   <br>\n",
    "\n",
    "$ Z_{test} $ = $\\frac {(0)- (0.52 -0.47)} {\\frac {(0.52)(0.48)}{100} + \\frac {(0.47)(0.53)}{100} }$  = -0.7082   <br>\n",
    "\n",
    "$Z_{0.05} $ = -1.65   <br>\n",
    "\n",
    "\n",
    "$ Z_{test} $   > $Z_{0.05} $    <br>\n",
    "\n",
    "Accept null hypothesis  <br>\n",
    "\n",
    "**Result** :- Greater percentage of republican voters in second states than first state\n",
    "\n",
    "\n",
    "\n",
    "\n",
    "\n",
    "\n",
    "\n"
   ]
  },
  {
   "cell_type": "code",
   "execution_count": 6,
   "metadata": {},
   "outputs": [
    {
     "name": "stdout",
     "output_type": "stream",
     "text": [
      "mu: 0.050000000000000044\n",
      "std: 0.07061869440877536\n",
      "Z_p1_p2 : -0.7080278164104213\n"
     ]
    }
   ],
   "source": [
    "n1 = 100\n",
    "n2 = 100\n",
    "R1 = 0.52            #Republicans from state 1\n",
    "D1 = 0.48            #Democrats from state 1\n",
    "R2 = 0.47            #Republicans from state 2\n",
    "D2 = 0.53            #Democrats from state 2\n",
    "\n",
    "mu = R1 - R2\n",
    "print(f\"mu: {mu}\")\n",
    "std = math.sqrt(((R1 * D1 ) / n1) + ((R2 * D2) /n2))\n",
    "print(f\"std: {std}\")\n",
    "\n",
    "#This problem requires us to find the probability that p1 is less than p2. \n",
    "#This is equivalent to finding the probability that R1 - R2 < 0. \n",
    "x = 0\n",
    "#To find this probability, we need to transform the random variable (R1 - R2) into a z-score. \n",
    "#That transformation appears below.\n",
    "\n",
    "Z_R1_R2 = ( x - mu)/std\n",
    "print(f\"Z_p1_p2 : {Z_R1_R2}\")\n",
    "\n",
    "#From Z table we find that the probability of a z-score being -0.7082 or less is 0.24.\n",
    "\n",
    "#Therefore, the probability that the survey will show a greater percentage of Republican voters \n",
    "#in the second state than in the first state is 0.24"
   ]
  },
  {
   "cell_type": "code",
   "execution_count": null,
   "metadata": {},
   "outputs": [],
   "source": []
  },
  {
   "cell_type": "markdown",
   "metadata": {},
   "source": [
    "###  Problem Statement 3:\n",
    "\n",
    "You take the SAT and score 1100. The mean score for the SAT is 1026 and the standard deviation is 209. How well did you score on the test compared to the average test taker?\n",
    "\n",
    "**solution** :-\n",
    "\n",
    "X = 1100 <br>\n",
    "$\\mu $ = 1026 <br>\n",
    "$\\sigma $ = 209    <br>\n",
    "\n",
    "$ Z-test $ = $\\frac {(X - \\mu)} {\\sigma} $     <br>\n",
    "\n",
    "$ Z-test $ = $\\frac {1100 - 1026)} {209} $   =   0.354   <br>\n",
    " \n",
    "P(Z-test=0.354) =0.6368     <br>\n",
    "\n",
    "The test score will be 63.68 percent\n",
    "\n",
    "\n",
    "\n",
    "\n",
    "\n",
    "\n"
   ]
  },
  {
   "cell_type": "code",
   "execution_count": 7,
   "metadata": {},
   "outputs": [
    {
     "name": "stdout",
     "output_type": "stream",
     "text": [
      "Z Score :  0.35406698564593303\n",
      "My Score is in the range 817 - 1235  with a  zscore 0.35\n"
     ]
    }
   ],
   "source": [
    "# The z score tells you how many standard deviations from the mean your score is\n",
    "\n",
    "x = 1100 #\n",
    "mu = 1026 # Population Mean\n",
    "sd = 209 #population standard deviation\n",
    "z = ( x - mu)/sd\n",
    "print(\"Z Score : \",z)\n",
    "#the above calculation shows that my score is 0.35 standard deviations above the mean\n",
    "print(\"My Score is in the range {} - {}  with a  zscore {:.2f}\".format(mu - sd,mu + sd,z))"
   ]
  },
  {
   "cell_type": "code",
   "execution_count": null,
   "metadata": {},
   "outputs": [],
   "source": []
  }
 ],
 "metadata": {
  "kernelspec": {
   "display_name": "Python 3",
   "language": "python",
   "name": "python3"
  },
  "language_info": {
   "codemirror_mode": {
    "name": "ipython",
    "version": 3
   },
   "file_extension": ".py",
   "mimetype": "text/x-python",
   "name": "python",
   "nbconvert_exporter": "python",
   "pygments_lexer": "ipython3",
   "version": "3.8.5"
  }
 },
 "nbformat": 4,
 "nbformat_minor": 4
}
